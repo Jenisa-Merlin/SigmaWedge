{
 "cells": [
  {
   "cell_type": "code",
   "execution_count": null,
   "id": "09a01c9d-a0f6-40e8-b39c-89c42f08f9d7",
   "metadata": {},
   "outputs": [],
   "source": [
    "from quantrocket.history import create_usstock_db\n",
    "create_usstock_db(\"usstock-free-1d\", bar_size=\"1 day\", free=True)"
   ]
  },
  {
   "cell_type": "code",
   "execution_count": null,
   "id": "d1b5e119-0532-4e72-b424-6aafda546bba",
   "metadata": {},
   "outputs": [],
   "source": [
    "from quantrocket.history import collect_history\n",
    "collect_history(\"usstock-free-1d\")"
   ]
  },
  {
   "cell_type": "code",
   "execution_count": null,
   "id": "b2ce7656-026e-4f85-ab02-33718d29c07a",
   "metadata": {},
   "outputs": [],
   "source": [
    "from quantrocket.master import get_securities\n",
    "securities = get_securities(vendors=\"usstock\", sec_types=\"STK\")\n",
    "securities.head()"
   ]
  },
  {
   "cell_type": "code",
   "execution_count": null,
   "id": "be23ad7f-7bf0-4858-9125-f3a196db7866",
   "metadata": {},
   "outputs": [],
   "source": [
    "from quantrocket.master import create_universe\n",
    "create_universe(\"usstock-free\", sids=securities.index.tolist())"
   ]
  },
  {
   "cell_type": "code",
   "execution_count": null,
   "id": "03071f48-6bb7-4f89-8f83-b13292e96d91",
   "metadata": {},
   "outputs": [],
   "source": [
    "filtered_securities = securities[securities.Delisted==False]\n",
    "filtered_securities = filtered_securities[[\"Symbol\", \"Exchange\", \"Name\", \"Delisted\"]]\n",
    "filtered_securities.head()"
   ]
  },
  {
   "cell_type": "code",
   "execution_count": null,
   "id": "8e5aefb7-dabd-49c0-8157-9676fa8837ae",
   "metadata": {},
   "outputs": [],
   "source": [
    "create_universe(\"usstock-free-active\", sids=filtered_securities.index.tolist())"
   ]
  },
  {
   "cell_type": "code",
   "execution_count": null,
   "id": "a8a77041-709a-4e25-a17a-2c2f04934ede",
   "metadata": {},
   "outputs": [],
   "source": [
    "import pandas as pd\n",
    "from quantrocket.history import download_history_file\n",
    "sid_aapl = \"FIBBG000B9XRY4\"\n",
    "download_history_file(\n",
    "    \"usstock-free-1d\",\n",
    "    start_date=\"2023-01-01\",\n",
    "    end_date=\"2023-12-31\",\n",
    "    sids=sid_aapl,\n",
    "    fields=[\"Close\"],\n",
    "    filepath_or_buffer=\"aapl_prices.csv\"\n",
    ")\n",
    "prices = pd.read_csv(\"aapl_prices.csv\", parse_dates=[\"Date\"])\n",
    "prices.head()"
   ]
  },
  {
   "cell_type": "code",
   "execution_count": null,
   "id": "e4b5ac91-28e5-4765-bd51-4a353638e5e5",
   "metadata": {},
   "outputs": [],
   "source": []
  }
 ],
 "metadata": {
  "kernelspec": {
   "display_name": "Python 3.9",
   "language": "python",
   "name": "python3"
  },
  "language_info": {
   "codemirror_mode": {
    "name": "ipython",
    "version": 3
   },
   "file_extension": ".py",
   "mimetype": "text/x-python",
   "name": "python",
   "nbconvert_exporter": "python",
   "pygments_lexer": "ipython3",
   "version": "3.9.12"
  }
 },
 "nbformat": 4,
 "nbformat_minor": 5
}
