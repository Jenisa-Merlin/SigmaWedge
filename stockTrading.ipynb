{
 "cells": [
  {
   "cell_type": "code",
   "execution_count": null,
   "id": "09a01c9d-a0f6-40e8-b39c-89c42f08f9d7",
   "metadata": {},
   "outputs": [],
   "source": [
    "# create empty database\n",
    "from quantrocket.history import create_usstock_db\n",
    "create_usstock_db(\"usstock-free-1d\", bar_size=\"1 day\", free=True)"
   ]
  },
  {
   "cell_type": "code",
   "execution_count": null,
   "id": "d1b5e119-0532-4e72-b424-6aafda546bba",
   "metadata": {},
   "outputs": [],
   "source": [
    "# populate the database with data (data is collected asynchronously)\n",
    "from quantrocket.history import collect_history\n",
    "collect_history(\"usstock-free-1d\")"
   ]
  },
  {
   "cell_type": "code",
   "execution_count": null,
   "id": "b2ce7656-026e-4f85-ab02-33718d29c07a",
   "metadata": {},
   "outputs": [],
   "source": [
    "# get securities\n",
    "from quantrocket.master import get_securities\n",
    "securities = get_securities(vendors=\"usstock\", sec_types=\"STK\")\n",
    "securities.head()"
   ]
  },
  {
   "cell_type": "code",
   "execution_count": null,
   "id": "be23ad7f-7bf0-4858-9125-f3a196db7866",
   "metadata": {},
   "outputs": [],
   "source": [
    "# create universe\n",
    "from quantrocket.master import create_universe\n",
    "create_universe(\"usstock-free\", sids=securities.index.tolist())"
   ]
  },
  {
   "cell_type": "code",
   "execution_count": null,
   "id": "03071f48-6bb7-4f89-8f83-b13292e96d91",
   "metadata": {},
   "outputs": [],
   "source": [
    "# filter securities from subset of securities\n",
    "filtered_securities = securities[securities.Delisted==False]\n",
    "filtered_securities = filtered_securities[[\"Symbol\", \"Exchange\", \"Name\", \"Delisted\"]]\n",
    "filtered_securities.head()"
   ]
  },
  {
   "cell_type": "code",
   "execution_count": null,
   "id": "8e5aefb7-dabd-49c0-8157-9676fa8837ae",
   "metadata": {},
   "outputs": [],
   "source": [
    "# create universe from the filtered securities\n",
    "create_universe(\"usstock-free-active\", sids=filtered_securities.index.tolist())"
   ]
  },
  {
   "cell_type": "code",
   "execution_count": 11,
   "id": "d60d2c47-76b9-43f0-a07f-71531a048d78",
   "metadata": {
    "tags": []
   },
   "outputs": [],
   "source": [
    "# import pandas library for data manipulation\n",
    "import pandas as pd"
   ]
  },
  {
   "cell_type": "code",
   "execution_count": 12,
   "id": "a8a77041-709a-4e25-a17a-2c2f04934ede",
   "metadata": {},
   "outputs": [],
   "source": [
    "# download the aapl price stock data for apple (sid = aapl) from '01-01-2023' to '31-12-2023'\n",
    "# parameters are db name, startDate, endDate, sid, required fields, filepath to store the downloaded file\n",
    "# can specify the universe also\n",
    "# downloaded file stored as aapl_prices.csv\n",
    "from quantrocket.history import download_history_file\n",
    "sid_aapl = \"FIBBG000B9XRY4\"\n",
    "download_history_file(\n",
    "    \"usstock-free-1d\",\n",
    "    start_date=\"2023-01-01\",\n",
    "    end_date=\"2023-12-31\",\n",
    "    sids=sid_aapl,\n",
    "    fields=[\"Close\"],\n",
    "    filepath_or_buffer=\"aapl_prices.csv\"\n",
    ")"
   ]
  },
  {
   "cell_type": "code",
   "execution_count": 19,
   "id": "8ed22dc5-0a87-4c3c-a385-9dd07b2b72da",
   "metadata": {
    "tags": []
   },
   "outputs": [],
   "source": [
    "# read the aapl_prices.csv file\n",
    "df = pd.read_csv(\"aapl_prices.csv\")"
   ]
  },
  {
   "cell_type": "code",
   "execution_count": 20,
   "id": "d2d8cefa-d704-491d-94c4-61c1c7dda144",
   "metadata": {
    "tags": []
   },
   "outputs": [],
   "source": [
    "# Add the 's' column to the DataFrame and initialize with '0'\n",
    "df['s'] = '0'"
   ]
  },
  {
   "cell_type": "code",
   "execution_count": 21,
   "id": "9b560f8d-9ff1-4675-a6b0-374314478de8",
   "metadata": {
    "tags": []
   },
   "outputs": [],
   "source": [
    "# Initialize variables\n",
    "# Portfolio value\n",
    "V = 0  \n",
    "# Count of different states\n",
    "state_counts = {'+1': 0, '0': 0, '-1': 0} \n",
    "# Transition counts \n",
    "transition_counts = {'+1': {'+1': 0, '0': 0, '-1': 0},\n",
    "                     '0': {'+1': 0, '0': 0, '-1': 0},\n",
    "                     '-1': {'+1': 0, '0': 0, '-1': 0}}\n",
    "# List to store buy indices  \n",
    "buy_indices = []  "
   ]
  },
  {
   "cell_type": "code",
   "execution_count": 22,
   "id": "2ebdca16-f235-49ac-a3ca-e0a443f2440d",
   "metadata": {
    "tags": []
   },
   "outputs": [],
   "source": [
    "# Iterate over the DataFrame rows\n",
    "for i in range(1, len(df)):\n",
    "    current_price = df.loc[i, 'Close']\n",
    "    previous_price = df.loc[i - 1, 'Close']\n",
    "    returns = (current_price - previous_price) / previous_price * 100  # Convert to percentage\n",
    "\n",
    "    # Calculate the state\n",
    "    if returns >= 0.1:\n",
    "        state = '+1'\n",
    "    elif returns > -0.1:\n",
    "        state = '0'\n",
    "    else:\n",
    "        state = '-1'\n",
    "\n",
    "    # Update the state counts\n",
    "    state_counts[state] += 1\n",
    "\n",
    "    # Calculate the portfolio value and track buy indices\n",
    "    if state == '+1' and df.loc[i - 1, 's'] == '0':\n",
    "        V += 1\n",
    "        buy_indices.append(i)\n",
    "\n",
    "    elif state == '-1' and df.loc[i - 1, 's'] == '0':\n",
    "        V -= 1\n",
    "        buy_indices.append(i)\n",
    "\n",
    "    # Update the transition counts\n",
    "    transition_counts[df.loc[i - 1, 's']][state] += 1\n",
    "\n",
    "    # Update the 's' column in the DataFrame\n",
    "    df.loc[i, 's'] = state"
   ]
  },
  {
   "cell_type": "code",
   "execution_count": 23,
   "id": "b46b0e09-d732-41b9-a9fa-d05020fef5c4",
   "metadata": {
    "tags": []
   },
   "outputs": [],
   "source": [
    "# Calculate the transition distribution\n",
    "transition_distribution = {}\n",
    "for from_state in transition_counts:\n",
    "    total_transitions = sum(transition_counts[from_state].values())\n",
    "    transition_distribution[from_state] = {\n",
    "        to_state: transition_counts[from_state][to_state] / total_transitions\n",
    "        for to_state in transition_counts[from_state]\n",
    "    }"
   ]
  },
  {
   "cell_type": "code",
   "execution_count": 24,
   "id": "87fa7e8c-8fb2-4d03-928a-aaf91aed450c",
   "metadata": {
    "tags": []
   },
   "outputs": [
    {
     "name": "stdout",
     "output_type": "stream",
     "text": [
      "Portfolio Value: 6\n",
      "Buy Indices: [1, 8, 12, 72, 79, 82, 87, 93, 96, 103, 116, 133, 153, 198, 203, 222, 227, 240, 245, 248]\n",
      "Transition Distribution:\n",
      "+1 -> {'+1': 0.5267175572519084, '0': 0.061068702290076333, '-1': 0.4122137404580153}\n",
      "0 -> {'+1': 0.65, '0': 0.0, '-1': 0.35}\n",
      "-1 -> {'+1': 0.5, '0': 0.11224489795918367, '-1': 0.3877551020408163}\n"
     ]
    }
   ],
   "source": [
    "# Print the portfolio value, buy indices, and transition distribution\n",
    "print('Portfolio Value:', V)\n",
    "print('Buy Indices:', buy_indices)\n",
    "print('Transition Distribution:')\n",
    "for from_state in transition_distribution:\n",
    "    print(from_state, '->', transition_distribution[from_state])"
   ]
  }
 ],
 "metadata": {
  "kernelspec": {
   "display_name": "Python 3.9",
   "language": "python",
   "name": "python3"
  },
  "language_info": {
   "codemirror_mode": {
    "name": "ipython",
    "version": 3
   },
   "file_extension": ".py",
   "mimetype": "text/x-python",
   "name": "python",
   "nbconvert_exporter": "python",
   "pygments_lexer": "ipython3",
   "version": "3.9.12"
  }
 },
 "nbformat": 4,
 "nbformat_minor": 5
}
